{
 "cells": [
  {
   "cell_type": "code",
   "execution_count": 1,
   "metadata": {
    "id": "h1dvK7H_qauH"
   },
   "outputs": [],
   "source": [
    "import json\n",
    "import bz2\n",
    "import re\n",
    "from tqdm import tqdm\n",
    "from scipy import sparse"
   ]
  },
  {
   "cell_type": "markdown",
   "metadata": {},
   "source": [
    "# Классификация по тональности"
   ]
  },
  {
   "cell_type": "code",
   "execution_count": 2,
   "metadata": {
    "id": "_ZsoxOinqauK",
    "outputId": "1b349b33-f266-404a-fa55-4088784d8897"
   },
   "outputs": [
    {
     "name": "stdout",
     "output_type": "stream",
     "text": [
      "Populating the interactive namespace from numpy and matplotlib\n"
     ]
    }
   ],
   "source": [
    "import pandas as pd\n",
    "import numpy as np\n",
    "import nltk\n",
    "import matplotlib.pyplot as plt\n",
    "import seaborn as sns\n",
    "%matplotlib inline\n",
    "%pylab inline"
   ]
  },
  {
   "cell_type": "code",
   "execution_count": 3,
   "metadata": {
    "id": "UNHVsbPnqauL",
    "outputId": "e8d7d7f4-576b-4846-b06a-f3b4a08adb95",
    "scrolled": true
   },
   "outputs": [
    {
     "name": "stderr",
     "output_type": "stream",
     "text": [
      "201030it [01:21, 2467.23it/s]\n"
     ]
    }
   ],
   "source": [
    "responses = []\n",
    "with bz2.BZ2File('banki_responses.json.bz2', 'r') as thefile:\n",
    "    for row in tqdm(thefile):\n",
    "        resp = json.loads(row)\n",
    "        if not resp['rating_not_checked'] and (len(resp['text'].split()) > 0):\n",
    "            responses.append(resp)"
   ]
  },
  {
   "cell_type": "markdown",
   "metadata": {
    "id": "F0ixYxfSqauM"
   },
   "source": [
    "\n",
    "Посмотрим на пример отзыва:"
   ]
  },
  {
   "cell_type": "code",
   "execution_count": 4,
   "metadata": {
    "id": "Dd7m6GpMqauP",
    "outputId": "975085c3-9f8c-4a64-ac12-747ffab282ce"
   },
   "outputs": [
    {
     "data": {
      "text/plain": [
       "{'city': 'г. Саратов',\n",
       " 'rating_not_checked': False,\n",
       " 'title': 'Карта ко вкладу',\n",
       " 'num_comments': 0,\n",
       " 'bank_license': 'лицензия № 880',\n",
       " 'author': 'ronnichka',\n",
       " 'bank_name': 'Югра',\n",
       " 'datetime': '2015-06-03 20:56:57',\n",
       " 'text': 'Здравствуйте! Хотела написать, что мне месяц не выдают карту ко вкладу, ссылаясь на \"нам же их из Самары везут\" (на секундочку 5 часов езды от нашего города). Но! Прочитала, что людям 3,5 месяцев не выдают карту, и поняла, что у меня все хорошо, пока что. И подарок мне дали, и кулер в отделении есть. Так что я, конечно, готова ждать. Правда хотелось бы не очень долго.',\n",
       " 'rating_grade': 3}"
      ]
     },
     "execution_count": 4,
     "metadata": {},
     "output_type": "execute_result"
    }
   ],
   "source": [
    "responses[99]"
   ]
  },
  {
   "cell_type": "code",
   "execution_count": 5,
   "metadata": {},
   "outputs": [
    {
     "data": {
      "text/plain": [
       "153499"
      ]
     },
     "execution_count": 5,
     "metadata": {},
     "output_type": "execute_result"
    }
   ],
   "source": [
    "len(responses)"
   ]
  },
  {
   "cell_type": "markdown",
   "metadata": {},
   "source": [
    "## Подготовка данных"
   ]
  },
  {
   "cell_type": "code",
   "execution_count": 6,
   "metadata": {},
   "outputs": [],
   "source": [
    "data = pd.DataFrame(responses)"
   ]
  },
  {
   "cell_type": "code",
   "execution_count": 7,
   "metadata": {},
   "outputs": [],
   "source": [
    "data_classification = data[ (data['rating_grade'] == 1) | (data['rating_grade'] == 5) ]"
   ]
  },
  {
   "cell_type": "code",
   "execution_count": 8,
   "metadata": {},
   "outputs": [],
   "source": [
    "data_classification = data_classification[['text', 'rating_grade']]"
   ]
  },
  {
   "cell_type": "code",
   "execution_count": 9,
   "metadata": {},
   "outputs": [
    {
     "data": {
      "text/html": [
       "<div>\n",
       "<style scoped>\n",
       "    .dataframe tbody tr th:only-of-type {\n",
       "        vertical-align: middle;\n",
       "    }\n",
       "\n",
       "    .dataframe tbody tr th {\n",
       "        vertical-align: top;\n",
       "    }\n",
       "\n",
       "    .dataframe thead th {\n",
       "        text-align: right;\n",
       "    }\n",
       "</style>\n",
       "<table border=\"1\" class=\"dataframe\">\n",
       "  <thead>\n",
       "    <tr style=\"text-align: right;\">\n",
       "      <th></th>\n",
       "      <th>text</th>\n",
       "      <th>rating_grade</th>\n",
       "    </tr>\n",
       "  </thead>\n",
       "  <tbody>\n",
       "    <tr>\n",
       "      <th>19</th>\n",
       "      <td>Открыт вклад и счет в USD. Плюс к этому есть з...</td>\n",
       "      <td>1.0</td>\n",
       "    </tr>\n",
       "    <tr>\n",
       "      <th>33</th>\n",
       "      <td>Доброго времени! Вчера мне поступило смс-уведо...</td>\n",
       "      <td>1.0</td>\n",
       "    </tr>\n",
       "    <tr>\n",
       "      <th>76</th>\n",
       "      <td>05.06.2015г. около 15 часов, пришел в указанны...</td>\n",
       "      <td>1.0</td>\n",
       "    </tr>\n",
       "  </tbody>\n",
       "</table>\n",
       "</div>"
      ],
      "text/plain": [
       "                                                 text  rating_grade\n",
       "19  Открыт вклад и счет в USD. Плюс к этому есть з...           1.0\n",
       "33  Доброго времени! Вчера мне поступило смс-уведо...           1.0\n",
       "76  05.06.2015г. около 15 часов, пришел в указанны...           1.0"
      ]
     },
     "execution_count": 9,
     "metadata": {},
     "output_type": "execute_result"
    }
   ],
   "source": [
    "data_classification.head(3)"
   ]
  },
  {
   "cell_type": "code",
   "execution_count": 10,
   "metadata": {},
   "outputs": [],
   "source": [
    "data = data.dropna(how = 'any')"
   ]
  },
  {
   "cell_type": "code",
   "execution_count": 11,
   "metadata": {},
   "outputs": [
    {
     "data": {
      "text/html": [
       "<div>\n",
       "<style scoped>\n",
       "    .dataframe tbody tr th:only-of-type {\n",
       "        vertical-align: middle;\n",
       "    }\n",
       "\n",
       "    .dataframe tbody tr th {\n",
       "        vertical-align: top;\n",
       "    }\n",
       "\n",
       "    .dataframe thead th {\n",
       "        text-align: right;\n",
       "    }\n",
       "</style>\n",
       "<table border=\"1\" class=\"dataframe\">\n",
       "  <thead>\n",
       "    <tr style=\"text-align: right;\">\n",
       "      <th></th>\n",
       "      <th>city</th>\n",
       "      <th>rating_not_checked</th>\n",
       "      <th>title</th>\n",
       "      <th>num_comments</th>\n",
       "      <th>bank_license</th>\n",
       "      <th>author</th>\n",
       "      <th>bank_name</th>\n",
       "      <th>datetime</th>\n",
       "      <th>text</th>\n",
       "      <th>rating_grade</th>\n",
       "    </tr>\n",
       "  </thead>\n",
       "  <tbody>\n",
       "    <tr>\n",
       "      <th>103351</th>\n",
       "      <td>г. Москва</td>\n",
       "      <td>False</td>\n",
       "      <td>Ошибка была в выгрузке</td>\n",
       "      <td>0</td>\n",
       "      <td>лицензия № 2268</td>\n",
       "      <td>outcrew</td>\n",
       "      <td>МТС Банк</td>\n",
       "      <td>2012-08-13 17:04:00</td>\n",
       "      <td>08.08.12 по зарплатному проекту мне была переч...</td>\n",
       "      <td>3.0</td>\n",
       "    </tr>\n",
       "    <tr>\n",
       "      <th>122051</th>\n",
       "      <td>г. Москва - Ростов-на-Дону</td>\n",
       "      <td>False</td>\n",
       "      <td>Сбербанк онлайн и оплата кредита</td>\n",
       "      <td>14</td>\n",
       "      <td>лицензия № 1481</td>\n",
       "      <td>Khopryachkoff</td>\n",
       "      <td>Сбербанк России</td>\n",
       "      <td>2011-07-05 20:14:00</td>\n",
       "      <td>Доброго времени суток! Надеюсь получить вразум...</td>\n",
       "      <td>1.0</td>\n",
       "    </tr>\n",
       "    <tr>\n",
       "      <th>118235</th>\n",
       "      <td>г. Москва</td>\n",
       "      <td>False</td>\n",
       "      <td>Интернет-банк: реклама и действительность!</td>\n",
       "      <td>1</td>\n",
       "      <td>лицензия № 316</td>\n",
       "      <td>ARNik</td>\n",
       "      <td>Хоум Кредит Банк</td>\n",
       "      <td>2011-10-18 17:08:00</td>\n",
       "      <td>Решил открыть в ХК депозит. Понравились услови...</td>\n",
       "      <td>2.0</td>\n",
       "    </tr>\n",
       "    <tr>\n",
       "      <th>72349</th>\n",
       "      <td>г. Москва</td>\n",
       "      <td>False</td>\n",
       "      <td>Изготовление карты</td>\n",
       "      <td>0</td>\n",
       "      <td>лицензия № 3251</td>\n",
       "      <td>Shmity</td>\n",
       "      <td>Промсвязьбанк</td>\n",
       "      <td>2013-09-27 17:15:00</td>\n",
       "      <td>31 августа подал заявку через интернет банк на...</td>\n",
       "      <td>3.0</td>\n",
       "    </tr>\n",
       "    <tr>\n",
       "      <th>106136</th>\n",
       "      <td>г. Москва</td>\n",
       "      <td>False</td>\n",
       "      <td>Кому противно или стыдно обслуживать, пусть ра...</td>\n",
       "      <td>22</td>\n",
       "      <td>лицензия № 2289</td>\n",
       "      <td>movex</td>\n",
       "      <td>Русский Стандарт</td>\n",
       "      <td>2012-06-20 18:03:00</td>\n",
       "      <td>Добрый день. Как говорится, театр начинается с...</td>\n",
       "      <td>1.0</td>\n",
       "    </tr>\n",
       "    <tr>\n",
       "      <th>79061</th>\n",
       "      <td>г. Екатеринбург</td>\n",
       "      <td>False</td>\n",
       "      <td>Транспортная карта</td>\n",
       "      <td>3</td>\n",
       "      <td>лицензия № 2289</td>\n",
       "      <td>yulizarina</td>\n",
       "      <td>Русский Стандарт</td>\n",
       "      <td>2013-07-15 18:20:00</td>\n",
       "      <td>В январе 2013г. в г.Екатеринбург завела дебето...</td>\n",
       "      <td>1.0</td>\n",
       "    </tr>\n",
       "    <tr>\n",
       "      <th>99896</th>\n",
       "      <td>г. Москва</td>\n",
       "      <td>False</td>\n",
       "      <td>Конфиденциальные данные клиентов под угрозой...</td>\n",
       "      <td>2</td>\n",
       "      <td>лицензия № 2241</td>\n",
       "      <td>Mr.Baxter</td>\n",
       "      <td>Киви Банк</td>\n",
       "      <td>2012-10-11 16:23:00</td>\n",
       "      <td>Ужасный сервис, как в итоге оказалось. Сейчас ...</td>\n",
       "      <td>1.0</td>\n",
       "    </tr>\n",
       "    <tr>\n",
       "      <th>131488</th>\n",
       "      <td>г. Москва</td>\n",
       "      <td>False</td>\n",
       "      <td>Немного позитива</td>\n",
       "      <td>9</td>\n",
       "      <td>лицензия № 3292</td>\n",
       "      <td>Drebin</td>\n",
       "      <td>Райффайзенбанк</td>\n",
       "      <td>2010-09-01 17:20:00</td>\n",
       "      <td>Похоже, довольные клиенты нечасто оставляют св...</td>\n",
       "      <td>4.0</td>\n",
       "    </tr>\n",
       "    <tr>\n",
       "      <th>9721</th>\n",
       "      <td>г. Москва</td>\n",
       "      <td>False</td>\n",
       "      <td>Наглое воровство денег у клиента</td>\n",
       "      <td>12</td>\n",
       "      <td>лицензия № 3065</td>\n",
       "      <td>neonfit</td>\n",
       "      <td>Военно-Промышленный Банк</td>\n",
       "      <td>2015-03-14 14:46:00</td>\n",
       "      <td>Добрый день, уважаемые banki.ru! Хочу рассказа...</td>\n",
       "      <td>4.0</td>\n",
       "    </tr>\n",
       "    <tr>\n",
       "      <th>53630</th>\n",
       "      <td>г. Москва</td>\n",
       "      <td>False</td>\n",
       "      <td>Поддержка на двойку</td>\n",
       "      <td>1</td>\n",
       "      <td>лицензия № 316</td>\n",
       "      <td>Irina C</td>\n",
       "      <td>Хоум Кредит Банк</td>\n",
       "      <td>2014-03-21 11:10:00</td>\n",
       "      <td>Имею вклад в ХКФ. К нему есть карта. Карта зак...</td>\n",
       "      <td>1.0</td>\n",
       "    </tr>\n",
       "  </tbody>\n",
       "</table>\n",
       "</div>"
      ],
      "text/plain": [
       "                              city  rating_not_checked  \\\n",
       "103351                   г. Москва               False   \n",
       "122051  г. Москва - Ростов-на-Дону               False   \n",
       "118235                   г. Москва               False   \n",
       "72349                    г. Москва               False   \n",
       "106136                   г. Москва               False   \n",
       "79061              г. Екатеринбург               False   \n",
       "99896                    г. Москва               False   \n",
       "131488                   г. Москва               False   \n",
       "9721                     г. Москва               False   \n",
       "53630                    г. Москва               False   \n",
       "\n",
       "                                                    title  num_comments  \\\n",
       "103351                             Ошибка была в выгрузке             0   \n",
       "122051                   Сбербанк онлайн и оплата кредита            14   \n",
       "118235         Интернет-банк: реклама и действительность!             1   \n",
       "72349                                  Изготовление карты             0   \n",
       "106136  Кому противно или стыдно обслуживать, пусть ра...            22   \n",
       "79061                                  Транспортная карта             3   \n",
       "99896     Конфиденциальные данные клиентов под угрозой...             2   \n",
       "131488                                   Немного позитива             9   \n",
       "9721                     Наглое воровство денег у клиента            12   \n",
       "53630                                 Поддержка на двойку             1   \n",
       "\n",
       "           bank_license         author                 bank_name  \\\n",
       "103351  лицензия № 2268        outcrew                  МТС Банк   \n",
       "122051  лицензия № 1481  Khopryachkoff           Сбербанк России   \n",
       "118235   лицензия № 316          ARNik          Хоум Кредит Банк   \n",
       "72349   лицензия № 3251         Shmity             Промсвязьбанк   \n",
       "106136  лицензия № 2289          movex          Русский Стандарт   \n",
       "79061   лицензия № 2289     yulizarina          Русский Стандарт   \n",
       "99896   лицензия № 2241      Mr.Baxter                 Киви Банк   \n",
       "131488  лицензия № 3292         Drebin            Райффайзенбанк   \n",
       "9721    лицензия № 3065        neonfit  Военно-Промышленный Банк   \n",
       "53630    лицензия № 316        Irina C          Хоум Кредит Банк   \n",
       "\n",
       "                   datetime  \\\n",
       "103351  2012-08-13 17:04:00   \n",
       "122051  2011-07-05 20:14:00   \n",
       "118235  2011-10-18 17:08:00   \n",
       "72349   2013-09-27 17:15:00   \n",
       "106136  2012-06-20 18:03:00   \n",
       "79061   2013-07-15 18:20:00   \n",
       "99896   2012-10-11 16:23:00   \n",
       "131488  2010-09-01 17:20:00   \n",
       "9721    2015-03-14 14:46:00   \n",
       "53630   2014-03-21 11:10:00   \n",
       "\n",
       "                                                     text  rating_grade  \n",
       "103351  08.08.12 по зарплатному проекту мне была переч...           3.0  \n",
       "122051  Доброго времени суток! Надеюсь получить вразум...           1.0  \n",
       "118235  Решил открыть в ХК депозит. Понравились услови...           2.0  \n",
       "72349   31 августа подал заявку через интернет банк на...           3.0  \n",
       "106136  Добрый день. Как говорится, театр начинается с...           1.0  \n",
       "79061   В январе 2013г. в г.Екатеринбург завела дебето...           1.0  \n",
       "99896   Ужасный сервис, как в итоге оказалось. Сейчас ...           1.0  \n",
       "131488  Похоже, довольные клиенты нечасто оставляют св...           4.0  \n",
       "9721    Добрый день, уважаемые banki.ru! Хочу рассказа...           4.0  \n",
       "53630   Имею вклад в ХКФ. К нему есть карта. Карта зак...           1.0  "
      ]
     },
     "execution_count": 11,
     "metadata": {},
     "output_type": "execute_result"
    }
   ],
   "source": [
    "data.sample(10)"
   ]
  },
  {
   "cell_type": "markdown",
   "metadata": {},
   "source": [
    "### Подготовим названия городов"
   ]
  },
  {
   "cell_type": "code",
   "execution_count": 12,
   "metadata": {},
   "outputs": [],
   "source": [
    "# Создадим список городов России\n",
    "\n",
    "city = pd.read_csv('https://raw.githubusercontent.com/hflabs/city/master/city.csv')"
   ]
  },
  {
   "cell_type": "code",
   "execution_count": 13,
   "metadata": {},
   "outputs": [
    {
     "data": {
      "text/plain": [
       "1117"
      ]
     },
     "execution_count": 13,
     "metadata": {},
     "output_type": "execute_result"
    }
   ],
   "source": [
    "city_ = [address.split('г ')[1].lower() for address in city['address']]\n",
    "len(city_)"
   ]
  },
  {
   "cell_type": "code",
   "execution_count": 14,
   "metadata": {},
   "outputs": [],
   "source": [
    "# Преобразуем названия городов к простому виду: все названия с маленькой буквы\n",
    "# и заменяем сокращения на полные названия.\n",
    "# Маркеруем города без названий как unknown.\n",
    "\n",
    "def get_city_name(string):\n",
    "    # шаблон поиска\n",
    "    city_pattern = r'[йцукенгшщзхъфывапролджэёячсмитьбю-]{3,}'\n",
    "    \n",
    "    # варианты названий\n",
    "    spb = ['с-петербург', 'спб', 'с-пб', 'петербург', 'питер', 'spb', 'saint peterburg', 'st.peterburg', '-пб', '-петербург']\n",
    "    msk = ['мск', 'msk', 'moscow']\n",
    "    \n",
    "    # переводим все названиия в строчные для удобства анализа.\n",
    "    city = re.findall(city_pattern, string)\n",
    "    if len(city) == 0:\n",
    "        return 'unknown'\n",
    "    elif city in spb:\n",
    "        return 'санкт-петербург'\n",
    "    elif city in msk:\n",
    "        return 'москва'\n",
    "    else:\n",
    "        return city[0]"
   ]
  },
  {
   "cell_type": "code",
   "execution_count": 15,
   "metadata": {},
   "outputs": [],
   "source": [
    "# Приводим названия городов к табличным.\n",
    "\n",
    "def mark_wrong_names(string):\n",
    "    if string in city_:\n",
    "        return string\n",
    "    else:\n",
    "        return 'wrong_name'"
   ]
  },
  {
   "cell_type": "code",
   "execution_count": 16,
   "metadata": {},
   "outputs": [],
   "source": [
    "# Т.к. не везде в отзывах указан город, заменяем None на unknown\n",
    "\n",
    "data['city'].fillna(value='unknown', inplace=True)"
   ]
  },
  {
   "cell_type": "code",
   "execution_count": 17,
   "metadata": {},
   "outputs": [
    {
     "data": {
      "text/plain": [
       "array(['г. Москва', 'г. Ростов-на-Дону', 'г. Санкт-Петербург', ...,\n",
       "       'г. Москва, павелецкое отделение', 'г. Москва-Владимир',\n",
       "       'г. Краснодарский край, ст.Павловская'], dtype=object)"
      ]
     },
     "execution_count": 17,
     "metadata": {},
     "output_type": "execute_result"
    }
   ],
   "source": [
    "data['city'].unique()"
   ]
  },
  {
   "cell_type": "code",
   "execution_count": 18,
   "metadata": {},
   "outputs": [],
   "source": [
    "# Переведём все в нижний регистр, для простоты.\n",
    "\n",
    "data['city'] = data['city'].apply(lambda x : x.lower())\n",
    "data['text'] = data['text'].apply(lambda x : x.lower())"
   ]
  },
  {
   "cell_type": "code",
   "execution_count": 19,
   "metadata": {},
   "outputs": [
    {
     "data": {
      "text/plain": [
       "array(['г. москва', 'г. ростов-на-дону', 'г. санкт-петербург', ...,\n",
       "       'г. москва, павелецкое отделение', 'г. москва-владимир',\n",
       "       'г. краснодарский край, ст.павловская'], dtype=object)"
      ]
     },
     "execution_count": 19,
     "metadata": {},
     "output_type": "execute_result"
    }
   ],
   "source": [
    "data['city'].unique()"
   ]
  },
  {
   "cell_type": "code",
   "execution_count": 20,
   "metadata": {},
   "outputs": [],
   "source": [
    "# Избавляемся от буквы г перед названием города и сокращений типа Мск.\n",
    "\n",
    "data['city'] = data['city'].apply(get_city_name)"
   ]
  },
  {
   "cell_type": "code",
   "execution_count": 21,
   "metadata": {},
   "outputs": [],
   "source": [
    "data['city'] = data['city'].apply(mark_wrong_names)"
   ]
  },
  {
   "cell_type": "code",
   "execution_count": 22,
   "metadata": {},
   "outputs": [
    {
     "name": "stdout",
     "output_type": "stream",
     "text": [
      "<class 'pandas.core.frame.DataFrame'>\n",
      "Int64Index: 74710 entries, 14 to 138946\n",
      "Data columns (total 10 columns):\n",
      " #   Column              Non-Null Count  Dtype  \n",
      "---  ------              --------------  -----  \n",
      " 0   city                74710 non-null  object \n",
      " 1   rating_not_checked  74710 non-null  bool   \n",
      " 2   title               74710 non-null  object \n",
      " 3   num_comments        74710 non-null  int64  \n",
      " 4   bank_license        74710 non-null  object \n",
      " 5   author              74710 non-null  object \n",
      " 6   bank_name           74710 non-null  object \n",
      " 7   datetime            74710 non-null  object \n",
      " 8   text                74710 non-null  object \n",
      " 9   rating_grade        74710 non-null  float64\n",
      "dtypes: bool(1), float64(1), int64(1), object(7)\n",
      "memory usage: 5.8+ MB\n"
     ]
    }
   ],
   "source": [
    "data.info()"
   ]
  },
  {
   "cell_type": "code",
   "execution_count": 23,
   "metadata": {},
   "outputs": [],
   "source": [
    "# Удаляем цифры в комментариях.\n",
    "\n",
    "digits = r'[0-9]'\n",
    "data['text'] = data['text'].apply(lambda text : re.sub(digits, '', text))"
   ]
  },
  {
   "cell_type": "code",
   "execution_count": 24,
   "metadata": {},
   "outputs": [],
   "source": [
    "# Подсчитаем колличество символов и слов в коментариях.\n",
    "\n",
    "data['words'] = data['text'].apply(lambda x : len(x.split(' ')))\n",
    "data['simbols'] = data['text'].apply(lambda x : len(x))"
   ]
  },
  {
   "cell_type": "code",
   "execution_count": 25,
   "metadata": {},
   "outputs": [],
   "source": [
    "# Итоговый набор данных.\n",
    "\n",
    "summary = data[['city', 'bank_name', 'rating_grade', 'text', 'words', 'simbols']]"
   ]
  },
  {
   "cell_type": "code",
   "execution_count": 26,
   "metadata": {},
   "outputs": [
    {
     "data": {
      "text/html": [
       "<div>\n",
       "<style scoped>\n",
       "    .dataframe tbody tr th:only-of-type {\n",
       "        vertical-align: middle;\n",
       "    }\n",
       "\n",
       "    .dataframe tbody tr th {\n",
       "        vertical-align: top;\n",
       "    }\n",
       "\n",
       "    .dataframe thead th {\n",
       "        text-align: right;\n",
       "    }\n",
       "</style>\n",
       "<table border=\"1\" class=\"dataframe\">\n",
       "  <thead>\n",
       "    <tr style=\"text-align: right;\">\n",
       "      <th></th>\n",
       "      <th>city</th>\n",
       "      <th>bank_name</th>\n",
       "      <th>rating_grade</th>\n",
       "      <th>text</th>\n",
       "      <th>words</th>\n",
       "      <th>simbols</th>\n",
       "    </tr>\n",
       "  </thead>\n",
       "  <tbody>\n",
       "    <tr>\n",
       "      <th>14</th>\n",
       "      <td>москва</td>\n",
       "      <td>Тинькофф Банк</td>\n",
       "      <td>2.0</td>\n",
       "      <td>также как и многие давний клиент банка, был до...</td>\n",
       "      <td>245</td>\n",
       "      <td>1633</td>\n",
       "    </tr>\n",
       "    <tr>\n",
       "      <th>19</th>\n",
       "      <td>москва</td>\n",
       "      <td>Сбербанк России</td>\n",
       "      <td>1.0</td>\n",
       "      <td>открыт вклад и счет в usd. плюс к этому есть з...</td>\n",
       "      <td>339</td>\n",
       "      <td>2180</td>\n",
       "    </tr>\n",
       "    <tr>\n",
       "      <th>33</th>\n",
       "      <td>ростов-на-дону</td>\n",
       "      <td>Сбербанк России</td>\n",
       "      <td>1.0</td>\n",
       "      <td>доброго времени! вчера мне поступило смс-уведо...</td>\n",
       "      <td>313</td>\n",
       "      <td>2147</td>\n",
       "    </tr>\n",
       "    <tr>\n",
       "      <th>76</th>\n",
       "      <td>санкт-петербург</td>\n",
       "      <td>АктивКапитал Банк</td>\n",
       "      <td>1.0</td>\n",
       "      <td>..г. около  часов, пришел в указанный офис с н...</td>\n",
       "      <td>184</td>\n",
       "      <td>1249</td>\n",
       "    </tr>\n",
       "    <tr>\n",
       "      <th>85</th>\n",
       "      <td>москва</td>\n",
       "      <td>Сбербанк России</td>\n",
       "      <td>1.0</td>\n",
       "      <td>для оплаты коммунальных платежей пользуюсь пла...</td>\n",
       "      <td>56</td>\n",
       "      <td>392</td>\n",
       "    </tr>\n",
       "  </tbody>\n",
       "</table>\n",
       "</div>"
      ],
      "text/plain": [
       "               city          bank_name  rating_grade  \\\n",
       "14           москва      Тинькофф Банк           2.0   \n",
       "19           москва    Сбербанк России           1.0   \n",
       "33   ростов-на-дону    Сбербанк России           1.0   \n",
       "76  санкт-петербург  АктивКапитал Банк           1.0   \n",
       "85           москва    Сбербанк России           1.0   \n",
       "\n",
       "                                                 text  words  simbols  \n",
       "14  также как и многие давний клиент банка, был до...    245     1633  \n",
       "19  открыт вклад и счет в usd. плюс к этому есть з...    339     2180  \n",
       "33  доброго времени! вчера мне поступило смс-уведо...    313     2147  \n",
       "76  ..г. около  часов, пришел в указанный офис с н...    184     1249  \n",
       "85  для оплаты коммунальных платежей пользуюсь пла...     56      392  "
      ]
     },
     "execution_count": 26,
     "metadata": {},
     "output_type": "execute_result"
    }
   ],
   "source": [
    "summary.head()"
   ]
  },
  {
   "cell_type": "code",
   "execution_count": 27,
   "metadata": {},
   "outputs": [],
   "source": [
    "# summary.groupby(['city', 'bank_name'])['text'].count().sort_values(by='words', ascending=False)"
   ]
  },
  {
   "cell_type": "code",
   "execution_count": 28,
   "metadata": {},
   "outputs": [
    {
     "name": "stderr",
     "output_type": "stream",
     "text": [
      "[nltk_data] Downloading package punkt to /Users/serge/nltk_data...\n",
      "[nltk_data]   Package punkt is already up-to-date!\n",
      "[nltk_data] Downloading package stopwords to /Users/serge/nltk_data...\n",
      "[nltk_data]   Package stopwords is already up-to-date!\n"
     ]
    },
    {
     "data": {
      "text/plain": [
       "True"
      ]
     },
     "execution_count": 28,
     "metadata": {},
     "output_type": "execute_result"
    }
   ],
   "source": [
    "# загружаем пунктуацию и стоп-слова\n",
    "\n",
    "nltk.download('punkt')\n",
    "nltk.download('stopwords')"
   ]
  },
  {
   "cell_type": "code",
   "execution_count": 29,
   "metadata": {},
   "outputs": [
    {
     "data": {
      "text/plain": [
       "'!\"#$%&\\'()*+,-./:;<=>?@[\\\\]^_`{|}~'"
      ]
     },
     "execution_count": 29,
     "metadata": {},
     "output_type": "execute_result"
    }
   ],
   "source": [
    "from string import punctuation\n",
    "punctuation"
   ]
  },
  {
   "cell_type": "code",
   "execution_count": 30,
   "metadata": {},
   "outputs": [],
   "source": [
    "from nltk.corpus import stopwords\n",
    "from nltk.tokenize import word_tokenize"
   ]
  },
  {
   "cell_type": "code",
   "execution_count": 31,
   "metadata": {},
   "outputs": [],
   "source": [
    "noise = stopwords.words('russian') + list(punctuation) + ['...', '..', '``', \"''\", '«', '»', ' ', '\\n']"
   ]
  },
  {
   "cell_type": "markdown",
   "metadata": {},
   "source": [
    "### Лемитизация"
   ]
  },
  {
   "cell_type": "code",
   "execution_count": 32,
   "metadata": {},
   "outputs": [],
   "source": [
    "from pymystem3 import Mystem\n",
    "mystem_analyzer = Mystem()"
   ]
  },
  {
   "cell_type": "code",
   "execution_count": 33,
   "metadata": {},
   "outputs": [],
   "source": [
    "def get_lemm_string(text):\n",
    "    text = re.sub('[{}]'.format(punctuation), '', text)\n",
    "    text = mystem_analyzer.lemmatize(text)\n",
    "    return \" \".join([word for word in text if word not in noise])"
   ]
  },
  {
   "cell_type": "code",
   "execution_count": 34,
   "metadata": {},
   "outputs": [
    {
     "data": {
      "text/plain": [
       "'также многий давний клиент банк довольный высокий степень сколько друг знакомый приводить    сосчитать большинство сотрудник компания переходить зарплатный проект тинькофф практически весь друг заводить карта вклад твориться последний время просто шокировать    унификация вклад страшный сон мочь присниться мочь снижать процент пополнение вклад       ответ пункт читать мочь разрешать беспроцентный закрывать вклад который открывать хотя апрель сильный снижение декабрь поверять банка становиться открывать банк выгодный процент совкомбанк пример менее надежный банк давать       учет налог \\xa0   замечать отзыв удалять неугодный комментарий касаться понижение ставка ответ представитель банк полугодовой давность недопустимость снижение ставка пополнение портал вопросответ информация также стереть отключать дистанционный обслуживание \\xa0   сегодня подавать заявка выпуск карта all airlines сообщать выпускать самый близкий времякрайний срок    понедельник закрывать текущий карта час связываться сотрудник сообщать технический причина выпускать карта близкий время представляться возможный попросить разблокировать текущий кредитный карта выходной планировать покупать билет летний отдых сказать разблокировка возможный супер хотеть поставлять    однако воспоминание хороший прошлое позволять ки мочь очень расстраивать'"
      ]
     },
     "execution_count": 34,
     "metadata": {},
     "output_type": "execute_result"
    }
   ],
   "source": [
    "get_lemm_string(summary['text'][14])"
   ]
  },
  {
   "cell_type": "code",
   "execution_count": 35,
   "metadata": {},
   "outputs": [],
   "source": [
    "# Составим сборник из текстов после лематизации.\n",
    "\n",
    "text_lemm = summary['text'].apply(get_lemm_string)"
   ]
  },
  {
   "cell_type": "code",
   "execution_count": 36,
   "metadata": {},
   "outputs": [
    {
     "data": {
      "text/plain": [
       "14        также многий давний клиент банк довольный высо...\n",
       "19        открывать вклад счет usd плюс это зарплатный к...\n",
       "33        добрый время вчера поступать смсуведомление ба...\n",
       "76        г около    час приходить указанный офис намере...\n",
       "85        оплата коммунальный платеж пользоваться пласти...\n",
       "                                ...                        \n",
       "138574    являться вкладчик павловский осб №    югозапад...\n",
       "138576    май    год вносить    тыс руб банкомат вр конв...\n",
       "138578    почитать отзыв свой банк карта который рука … ...\n",
       "138585    кража карта предыдущий банк gemoney решать вос...\n",
       "138946    здравствовать закрывать карта метро номер     ...\n",
       "Name: text, Length: 74710, dtype: object"
      ]
     },
     "execution_count": 36,
     "metadata": {},
     "output_type": "execute_result"
    }
   ],
   "source": [
    "text_lemm"
   ]
  },
  {
   "cell_type": "markdown",
   "metadata": {},
   "source": [
    "## Часть 1. Анализ текстов"
   ]
  },
  {
   "cell_type": "markdown",
   "metadata": {},
   "source": [
    "1. Посчитайте количество отзывов в разных городах и на разные банки"
   ]
  },
  {
   "cell_type": "code",
   "execution_count": 37,
   "metadata": {},
   "outputs": [
    {
     "data": {
      "text/plain": [
       "city             bank_name       \n",
       "москва           Сбербанк России     4779\n",
       "                 Альфа-Банк          2108\n",
       "                 Русский Стандарт    1712\n",
       "                 ВТБ 24              1579\n",
       "санкт-петербург  Сбербанк России     1430\n",
       "                                     ... \n",
       "ахтубинск        Хоум Кредит Банк       1\n",
       "                 Экспресс-Волга         1\n",
       "ачинск           Альфа-Банк             1\n",
       "                 БНП Париба Банк        1\n",
       "ярцево           Хоум Кредит Банк       1\n",
       "Name: text, Length: 7445, dtype: int64"
      ]
     },
     "execution_count": 37,
     "metadata": {},
     "output_type": "execute_result"
    }
   ],
   "source": [
    "summary.groupby(['city', 'bank_name'])['text'].count().sort_values(ascending=False)"
   ]
  },
  {
   "cell_type": "markdown",
   "metadata": {},
   "source": [
    "2. Постройте гистограмы длин слов в символах и в словах"
   ]
  },
  {
   "cell_type": "code",
   "execution_count": 38,
   "metadata": {},
   "outputs": [
    {
     "data": {
      "image/png": "[encoded data removed]",
      "text/plain": [
       "<Figure size 432x288 with 2 Axes>"
      ]
     },
     "metadata": {
      "needs_background": "light"
     },
     "output_type": "display_data"
    }
   ],
   "source": [
    "fig, axs = plt.subplots(2, 1)\n",
    "axs[0].hist(summary['simbols'], bins=30, color='g')\n",
    "axs[1].hist(summary['words'], bins=30)\n",
    "fig.tight_layout()\n",
    "plt.show()"
   ]
  },
  {
   "cell_type": "markdown",
   "metadata": {},
   "source": [
    "3. Найдите 10 самых частых:\n",
    "* слов\n",
    "* слов без стоп-слов\n",
    "* лемм\n",
    "* существительных"
   ]
  },
  {
   "cell_type": "code",
   "execution_count": 39,
   "metadata": {},
   "outputs": [],
   "source": [
    "from collections import Counter\n",
    "corpus_words = [token for text in summary.text for token in word_tokenize(text) if token not in noise]"
   ]
  },
  {
   "cell_type": "code",
   "execution_count": 40,
   "metadata": {},
   "outputs": [],
   "source": [
    "freq_word = Counter(corpus_words)"
   ]
  },
  {
   "cell_type": "code",
   "execution_count": 41,
   "metadata": {},
   "outputs": [
    {
     "data": {
      "text/plain": [
       "[('банка', 145885),\n",
       " ('банк', 103930),\n",
       " ('это', 101938),\n",
       " ('деньги', 72195),\n",
       " ('карту', 61282),\n",
       " ('карты', 56887),\n",
       " ('отделение', 42771),\n",
       " ('день', 41895),\n",
       " ('заявление', 40584),\n",
       " ('кредит', 39438),\n",
       " ('время', 38036),\n",
       " ('очень', 36960),\n",
       " ('банке', 35998),\n",
       " ('дней', 33337),\n",
       " ('счет', 32120),\n",
       " ('года', 29737),\n",
       " ('карта', 29215),\n",
       " ('вопрос', 28096),\n",
       " ('ответ', 27398),\n",
       " ('г.', 27213)]"
      ]
     },
     "execution_count": 41,
     "metadata": {},
     "output_type": "execute_result"
    }
   ],
   "source": [
    "# 10 самых частых слов без стоп-слов\n",
    "freq_word.most_common(20)"
   ]
  },
  {
   "cell_type": "markdown",
   "metadata": {},
   "source": [
    "Очевидно что 'банка', 'банк' и 'банке' должны быть объеденены в одну группу."
   ]
  },
  {
   "cell_type": "code",
   "execution_count": 42,
   "metadata": {},
   "outputs": [],
   "source": [
    "corpus_lemm = [token for text in text_lemm for token in word_tokenize(text) if token not in noise]"
   ]
  },
  {
   "cell_type": "code",
   "execution_count": 43,
   "metadata": {},
   "outputs": [
    {
     "data": {
      "text/plain": [
       "[('банк', 315487),\n",
       " ('карта', 188509),\n",
       " ('это', 130266),\n",
       " ('деньги', 99153),\n",
       " ('день', 98834),\n",
       " ('отделение', 92445),\n",
       " ('который', 83145),\n",
       " ('сотрудник', 79525),\n",
       " ('счет', 78866),\n",
       " ('весь', 77813),\n",
       " ('кредит', 76551),\n",
       " ('клиент', 74083),\n",
       " ('мочь', 71036),\n",
       " ('сказать', 67783),\n",
       " ('свой', 65428),\n",
       " ('получать', 60977),\n",
       " ('заявление', 59985),\n",
       " ('сумма', 57731),\n",
       " ('вопрос', 56347),\n",
       " ('год', 55012)]"
      ]
     },
     "execution_count": 43,
     "metadata": {},
     "output_type": "execute_result"
    }
   ],
   "source": [
    "# 10 самых частых лемм\n",
    "freq_lemm = Counter(corpus_lemm)\n",
    "freq_lemm.most_common(20)"
   ]
  },
  {
   "cell_type": "markdown",
   "metadata": {},
   "source": [
    "4. Постройте кривые Ципфа и Хипса"
   ]
  },
  {
   "cell_type": "markdown",
   "metadata": {},
   "source": [
    "    4.1 Ципф"
   ]
  },
  {
   "cell_type": "code",
   "execution_count": 45,
   "metadata": {},
   "outputs": [
    {
     "data": {
      "image/png": "[encoded data removed]",
      "text/plain": [
       "<Figure size 432x288 with 1 Axes>"
      ]
     },
     "metadata": {
      "needs_background": "light"
     },
     "output_type": "display_data"
    }
   ],
   "source": [
    "freqs = list(freq_word.values())\n",
    "freqs = sorted(freqs, reverse = True)\n",
    "\n",
    "fig, ax = plt.subplots()\n",
    "ax.plot(freqs[:300], range(300))\n",
    "plt.show()"
   ]
  },
  {
   "cell_type": "markdown",
   "metadata": {},
   "source": [
    "    4.2 Хипс"
   ]
  },
  {
   "cell_type": "code",
   "execution_count": 46,
   "metadata": {},
   "outputs": [
    {
     "name": "stderr",
     "output_type": "stream",
     "text": [
      "100%|██████████| 74710/74710 [05:26<00:00, 228.75it/s]\n"
     ]
    }
   ],
   "source": [
    "cnt = Counter()\n",
    "n_words = []\n",
    "n_tokens = []\n",
    "tokens = []\n",
    "for index, row in tqdm(data.iterrows(), total = len(data)):\n",
    "    tokens = word_tokenize(row['text'])\n",
    "    cnt.update([token for token in tokens if token not in noise])\n",
    "    n_words.append(len(cnt))\n",
    "    n_tokens.append(sum(cnt.values()))"
   ]
  },
  {
   "cell_type": "code",
   "execution_count": 47,
   "metadata": {},
   "outputs": [
    {
     "data": {
      "image/png": "[encoded data removed]",
      "text/plain": [
       "<Figure size 432x288 with 1 Axes>"
      ]
     },
     "metadata": {
      "needs_background": "light"
     },
     "output_type": "display_data"
    }
   ],
   "source": [
    "fig, ax = plt.subplots()\n",
    "ax.plot(n_words)\n",
    "plt.show()"
   ]
  },
  {
   "cell_type": "markdown",
   "metadata": {},
   "source": [
    "5. Ответьте на следующие вопросы:\n",
    "* какое слово встречается чаще, \"сотрудник\" или \"клиент\"?\n",
    "* сколько раз встречается слова \"мошенничество\" и \"доверие\"?"
   ]
  },
  {
   "cell_type": "code",
   "execution_count": 48,
   "metadata": {},
   "outputs": [
    {
     "data": {
      "text/plain": [
       "True"
      ]
     },
     "execution_count": 48,
     "metadata": {},
     "output_type": "execute_result"
    }
   ],
   "source": [
    "# какое слово встречается чаще, \"сотрудник\" или \"клиент\"?\n",
    "freq_lemm['сотрудник'] > freq_lemm['клиент']"
   ]
  },
  {
   "cell_type": "code",
   "execution_count": 49,
   "metadata": {},
   "outputs": [
    {
     "data": {
      "text/plain": [
       "(1186, 1098)"
      ]
     },
     "execution_count": 49,
     "metadata": {},
     "output_type": "execute_result"
    }
   ],
   "source": [
    "# сколько раз встречается слова \"мошенничество\" и \"доверие\"?\n",
    "freq_lemm['мошенничество'], freq_lemm['доверие']"
   ]
  },
  {
   "cell_type": "markdown",
   "metadata": {},
   "source": [
    "6. В поле \"rating_grade\" записана оценка отзыва по шкале от 1 до 5. Используйте меру $tf-idf$, для того, чтобы найти ключевые слова и биграмы для положительных отзывов (с оценкой 5) и отрицательных отзывов (с оценкой 1)"
   ]
  },
  {
   "cell_type": "code",
   "execution_count": 50,
   "metadata": {},
   "outputs": [],
   "source": [
    "from sklearn.feature_extraction.text import TfidfVectorizer\n",
    "from sklearn.feature_extraction.text import CountVectorizer\n",
    "from sklearn.pipeline import Pipeline"
   ]
  },
  {
   "cell_type": "code",
   "execution_count": 51,
   "metadata": {},
   "outputs": [],
   "source": [
    "# cuted = summary[ (summary['rating_grade'] == 1) | (summary['rating_grade'] == 5) ].sample(1000)\n",
    "cuted = summary[ (summary['rating_grade'] == 1) | (summary['rating_grade'] == 5) ]"
   ]
  },
  {
   "cell_type": "code",
   "execution_count": 52,
   "metadata": {},
   "outputs": [
    {
     "data": {
      "text/plain": [
       "1.0    39855\n",
       "5.0    10511\n",
       "Name: rating_grade, dtype: int64"
      ]
     },
     "execution_count": 52,
     "metadata": {},
     "output_type": "execute_result"
    }
   ],
   "source": [
    "cuted['rating_grade'].value_counts()"
   ]
  },
  {
   "cell_type": "code",
   "execution_count": 53,
   "metadata": {},
   "outputs": [],
   "source": [
    "# sns.scatterplot(x=cutevalue_counts, y=cuted['simbols'], hue=cuted['rating_grade'])"
   ]
  },
  {
   "cell_type": "code",
   "execution_count": 54,
   "metadata": {},
   "outputs": [],
   "source": [
    "vec = TfidfVectorizer(ngram_range=(1, 1), stop_words=stopwords.words('russian'), max_df=0.8, min_df=4)"
   ]
  },
  {
   "cell_type": "code",
   "execution_count": 55,
   "metadata": {},
   "outputs": [],
   "source": [
    "tfidf_pos = vec.fit_transform(cuted[ cuted['rating_grade'] == 5 ]['text'])"
   ]
  },
  {
   "cell_type": "code",
   "execution_count": 56,
   "metadata": {},
   "outputs": [],
   "source": [
    "tfidf_neg = vec.fit_transform(cuted[ cuted['rating_grade'] == 1 ]['text'])"
   ]
  },
  {
   "cell_type": "code",
   "execution_count": 57,
   "metadata": {},
   "outputs": [
    {
     "data": {
      "text/plain": [
       "((10511, 26752), (39855, 54954))"
      ]
     },
     "execution_count": 57,
     "metadata": {},
     "output_type": "execute_result"
    }
   ],
   "source": [
    "tfidf_pos.shape, tfidf_neg.shape"
   ]
  },
  {
   "cell_type": "code",
   "execution_count": 58,
   "metadata": {},
   "outputs": [],
   "source": [
    "# Значение из словаря по индексу.\n",
    "\n",
    "def get_term(dictionary, index):\n",
    "    for key, value in dictionary.items():\n",
    "        if value == index:\n",
    "            return key"
   ]
  },
  {
   "cell_type": "code",
   "execution_count": 59,
   "metadata": {},
   "outputs": [],
   "source": [
    "# Вычисляем 10 самых используемых лемм в отрицательных отзывах.\n",
    "# Приводим TF-IDF к матрице типа dense.\n",
    "# Сортируем по возростанию и отрезаем 5 наиболее характерных.\n",
    "# Вытягиваем полученные индексы в ленту.\n",
    "\n",
    "index_tape_pos = tfidf_pos.todense().argsort()[:,-5:].flatten().tolist()[0]"
   ]
  },
  {
   "cell_type": "code",
   "execution_count": 60,
   "metadata": {},
   "outputs": [
    {
     "data": {
      "text/plain": [
       "[('грузит', 222),\n",
       " ('нелестные', 221),\n",
       " ('аэрофлоту', 195),\n",
       " ('беспорядка', 161),\n",
       " ('выяснилась', 150),\n",
       " ('photo', 138),\n",
       " ('беспорядок', 134),\n",
       " ('аэроэкспресс', 129),\n",
       " ('выяснили', 117),\n",
       " ('верхние', 108)]"
      ]
     },
     "execution_count": 60,
     "metadata": {},
     "output_type": "execute_result"
    }
   ],
   "source": [
    "# Вычисляем 10 самых распрастранёных.\n",
    "\n",
    "Counter([ get_term(vec.vocabulary_, index) for index in index_tape_pos ]).most_common(10)"
   ]
  },
  {
   "cell_type": "code",
   "execution_count": 61,
   "metadata": {},
   "outputs": [],
   "source": [
    "index_tape_neg = tfidf_neg.todense().argsort()[:,-5:].flatten().tolist()[0]"
   ]
  },
  {
   "cell_type": "code",
   "execution_count": 62,
   "metadata": {},
   "outputs": [
    {
     "data": {
      "text/plain": [
       "[('кредит', 670),\n",
       " ('карты', 663),\n",
       " ('банкомат', 662),\n",
       " ('карту', 659),\n",
       " ('руб', 645),\n",
       " ('деньги', 630),\n",
       " ('вклад', 603),\n",
       " ('альфа', 591),\n",
       " ('сбербанка', 512),\n",
       " ('смс', 455)]"
      ]
     },
     "execution_count": 62,
     "metadata": {},
     "output_type": "execute_result"
    }
   ],
   "source": [
    "Counter([ get_term(vec.vocabulary_, index) for index in index_tape_neg ]).most_common(10)"
   ]
  },
  {
   "cell_type": "markdown",
   "metadata": {},
   "source": [
    "## Часть 2. Тематическое моделирование"
   ]
  },
  {
   "cell_type": "code",
   "execution_count": 63,
   "metadata": {},
   "outputs": [
    {
     "data": {
      "text/plain": [
       "14        также многий давний клиент банк довольный высо...\n",
       "19        открывать вклад счет usd плюс это зарплатный к...\n",
       "33        добрый время вчера поступать смсуведомление ба...\n",
       "76        г около    час приходить указанный офис намере...\n",
       "85        оплата коммунальный платеж пользоваться пласти...\n",
       "                                ...                        \n",
       "138574    являться вкладчик павловский осб №    югозапад...\n",
       "138576    май    год вносить    тыс руб банкомат вр конв...\n",
       "138578    почитать отзыв свой банк карта который рука … ...\n",
       "138585    кража карта предыдущий банк gemoney решать вос...\n",
       "138946    здравствовать закрывать карта метро номер     ...\n",
       "Name: text, Length: 74710, dtype: object"
      ]
     },
     "execution_count": 63,
     "metadata": {},
     "output_type": "execute_result"
    }
   ],
   "source": [
    "# Используем лематизированные сообщения.\n",
    "text_lemm"
   ]
  },
  {
   "cell_type": "code",
   "execution_count": 64,
   "metadata": {},
   "outputs": [],
   "source": [
    "from gensim.corpora import Dictionary\n",
    "from gensim.models import TfidfModel\n",
    "from gensim import similarities"
   ]
  },
  {
   "cell_type": "code",
   "execution_count": 65,
   "metadata": {},
   "outputs": [],
   "source": [
    "texts = [text.split() for text in text_lemm]\n",
    "dictionary = Dictionary(texts)\n",
    "corpus = [dictionary.doc2bow(text) for text in texts]"
   ]
  },
  {
   "cell_type": "code",
   "execution_count": 66,
   "metadata": {},
   "outputs": [],
   "source": [
    "tfidf = TfidfModel(corpus)\n",
    "corpus_tfidf = tfidf[corpus]"
   ]
  },
  {
   "cell_type": "code",
   "execution_count": 67,
   "metadata": {},
   "outputs": [],
   "source": [
    "from gensim.models import lsimodel"
   ]
  },
  {
   "cell_type": "code",
   "execution_count": 68,
   "metadata": {},
   "outputs": [
    {
     "name": "stdout",
     "output_type": "stream",
     "text": [
      "CPU times: user 2min 15s, sys: 4.57 s, total: 2min 19s\n",
      "Wall time: 1min 29s\n"
     ]
    }
   ],
   "source": [
    "%%time\n",
    "lsi = lsimodel.LsiModel(corpus=corpus_tfidf, id2word=dictionary, num_topics=10)"
   ]
  },
  {
   "cell_type": "code",
   "execution_count": 69,
   "metadata": {},
   "outputs": [],
   "source": [
    "topics = lsi.show_topics(10)"
   ]
  },
  {
   "cell_type": "code",
   "execution_count": 70,
   "metadata": {},
   "outputs": [],
   "source": [
    "pattern = r'[йцукенгшщзхъфывапролджэёячсмитьбю]+'"
   ]
  },
  {
   "cell_type": "code",
   "execution_count": 71,
   "metadata": {},
   "outputs": [
    {
     "name": "stdout",
     "output_type": "stream",
     "text": [
      "Тема 1: карта кредит заявление деньги вклад банкомат счет отделение сбербанк сумма\n",
      "Тема 2: вклад кредит открывать очередь платеж заявление задолженность погашение руб офис\n",
      "Тема 3: банкомат кредит карта страховка договор деньги сбербанк погашение страхование операция\n",
      "Тема 4: вклад карта банкомат заявка сумма деньги погашение платеж средство вносить\n",
      "Тема 5: банкомат карта кредит очередь заявка страховка средство\n",
      "Тема 6: карта вклад банкомат закрывать заявка задолженность закрытие\n",
      "Тема 7: вклад заявка заявление рассмотрение комиссия сбербанк банкомат карта платеж срок\n",
      "Тема 8: страховка карта банкомат платеж страхование номер заявка терминал перевод очередь\n",
      "Тема 9: сбербанк страховка банкомат заявка страхование очередь заявление страховой звонок терминал\n",
      "Тема 10: страховка перевод карта закрывать заявление страхование справка услуга закрытие кошелек\n"
     ]
    }
   ],
   "source": [
    "for i in range(len(topics)):\n",
    "    print(\"Тема {}: \".format(i+1) + \" \".join(re.findall(pattern, topics[i][1])))"
   ]
  },
  {
   "cell_type": "markdown",
   "metadata": {},
   "source": [
    "## Часть 3. Классификация текстов"
   ]
  },
  {
   "cell_type": "code",
   "execution_count": 72,
   "metadata": {},
   "outputs": [],
   "source": [
    "from sklearn.model_selection import train_test_split"
   ]
  },
  {
   "cell_type": "code",
   "execution_count": 73,
   "metadata": {},
   "outputs": [],
   "source": [
    "X, y = data_classification['text'], data_classification['rating_grade']"
   ]
  },
  {
   "cell_type": "code",
   "execution_count": 74,
   "metadata": {},
   "outputs": [],
   "source": [
    "X_train, X_test, y_train, y_test = train_test_split(X, y, test_size=0.3, random_state=208)"
   ]
  },
  {
   "cell_type": "code",
   "execution_count": 75,
   "metadata": {
    "id": "bUSukDrwqauS",
    "outputId": "d50fc19f-0306-4d6b-f14d-101196431d81"
   },
   "outputs": [],
   "source": [
    "from sklearn.pipeline import Pipeline\n",
    "from sklearn.ensemble import RandomForestClassifier\n",
    "from sklearn.feature_extraction.text import TfidfTransformer\n",
    "from sklearn.decomposition import TruncatedSVD\n",
    "from sklearn.discriminant_analysis import LinearDiscriminantAnalysis\n",
    "\n",
    "# !!! На каждом этапе Pipeline нужно указать свои параметры\n",
    "# 1-ый вариант: tf-idf + LSI\n",
    "# 2-ой вариант: LDA\n",
    "\n",
    "# clf = Pipeline([\n",
    "#     ('vect', CountVectorizer(analyzer = 'char', ngram_range={4,6})),\n",
    "#     ('clf', RandomForestClassifier()),\n",
    "# ])\n",
    "\n",
    "\n",
    "\n",
    "pipe = Pipeline([ \n",
    "    ('vect', CountVectorizer(ngram_range=(1, 3), analyzer='word', stop_words=stopwords.words('russian'))), \n",
    "    ('tfidf', TfidfTransformer()),\n",
    "    ('tm', TruncatedSVD(n_components=2, random_state=208)), \n",
    "    ('clf', RandomForestClassifier(max_depth=3, random_state=208))\n",
    "])"
   ]
  },
  {
   "cell_type": "code",
   "execution_count": 76,
   "metadata": {},
   "outputs": [
    {
     "data": {
      "text/plain": [
       "((43470,), (43470,))"
      ]
     },
     "execution_count": 76,
     "metadata": {},
     "output_type": "execute_result"
    }
   ],
   "source": [
    "X_train.shape, y_train.shape"
   ]
  },
  {
   "cell_type": "code",
   "execution_count": 77,
   "metadata": {},
   "outputs": [
    {
     "data": {
      "text/plain": [
       "Pipeline(steps=[('vect',\n",
       "                 CountVectorizer(ngram_range=(1, 3),\n",
       "                                 stop_words=['и', 'в', 'во', 'не', 'что', 'он',\n",
       "                                             'на', 'я', 'с', 'со', 'как', 'а',\n",
       "                                             'то', 'все', 'она', 'так', 'его',\n",
       "                                             'но', 'да', 'ты', 'к', 'у', 'же',\n",
       "                                             'вы', 'за', 'бы', 'по', 'только',\n",
       "                                             'ее', 'мне', ...])),\n",
       "                ('tfidf', TfidfTransformer()),\n",
       "                ('tm', TruncatedSVD(random_state=208)),\n",
       "                ('clf', RandomForestClassifier(max_depth=3, random_state=208))])"
      ]
     },
     "execution_count": 77,
     "metadata": {},
     "output_type": "execute_result"
    }
   ],
   "source": [
    "pipe.fit(X_train, y_train)"
   ]
  },
  {
   "cell_type": "code",
   "execution_count": 78,
   "metadata": {},
   "outputs": [],
   "source": [
    "svd = pipe['tm'].transform(pipe['tfidf'].transform(pipe['vect'].transform(X_train)))"
   ]
  },
  {
   "cell_type": "code",
   "execution_count": 79,
   "metadata": {},
   "outputs": [
    {
     "name": "stderr",
     "output_type": "stream",
     "text": [
      "/usr/local/lib/python3.9/site-packages/seaborn/_decorators.py:36: FutureWarning: Pass the following variables as keyword args: x, y. From version 0.12, the only valid positional argument will be `data`, and passing other arguments without an explicit keyword will result in an error or misinterpretation.\n",
      "  warnings.warn(\n"
     ]
    },
    {
     "data": {
      "text/plain": [
       "<AxesSubplot:>"
      ]
     },
     "execution_count": 79,
     "metadata": {},
     "output_type": "execute_result"
    },
    {
     "data": {
      "image/png": "[encoded data removed]",
      "text/plain": [
       "<Figure size 432x288 with 1 Axes>"
      ]
     },
     "metadata": {
      "needs_background": "light"
     },
     "output_type": "display_data"
    }
   ],
   "source": [
    "sns.scatterplot(svd[:,0], svd[:,1], hue=y_train)"
   ]
  },
  {
   "cell_type": "code",
   "execution_count": 80,
   "metadata": {},
   "outputs": [
    {
     "data": {
      "text/plain": [
       "1.0    14209\n",
       "5.0     4421\n",
       "Name: rating_grade, dtype: int64"
      ]
     },
     "execution_count": 80,
     "metadata": {},
     "output_type": "execute_result"
    }
   ],
   "source": [
    "y_test.value_counts()"
   ]
  },
  {
   "cell_type": "code",
   "execution_count": 81,
   "metadata": {},
   "outputs": [],
   "source": [
    "from sklearn.metrics import accuracy_score\n",
    "from sklearn.metrics import f1_score"
   ]
  },
  {
   "cell_type": "code",
   "execution_count": 82,
   "metadata": {},
   "outputs": [
    {
     "data": {
      "text/plain": [
       "0.8012882447665056"
      ]
     },
     "execution_count": 82,
     "metadata": {},
     "output_type": "execute_result"
    }
   ],
   "source": [
    "accuracy_score(y_test, pipe.predict(X_test))"
   ]
  },
  {
   "cell_type": "code",
   "execution_count": 83,
   "metadata": {},
   "outputs": [
    {
     "data": {
      "text/plain": [
       "0.8813309398640851"
      ]
     },
     "execution_count": 83,
     "metadata": {},
     "output_type": "execute_result"
    }
   ],
   "source": [
    "f1_score(y_test, pipe.predict(X_test))"
   ]
  },
  {
   "cell_type": "code",
   "execution_count": null,
   "metadata": {},
   "outputs": [],
   "source": []
  }
 ],
 "metadata": {
  "colab": {
   "collapsed_sections": [],
   "name": "HW1_banki_TM-and-classification.ipynb",
   "provenance": []
  },
  "kernelspec": {
   "display_name": "Python 3",
   "language": "python",
   "name": "python3"
  },
  "language_info": {
   "codemirror_mode": {
    "name": "ipython",
    "version": 3
   },
   "file_extension": ".py",
   "mimetype": "text/x-python",
   "name": "python",
   "nbconvert_exporter": "python",
   "pygments_lexer": "ipython3",
   "version": "3.9.6"
  }
 },
 "nbformat": 4,
 "nbformat_minor": 4
}
